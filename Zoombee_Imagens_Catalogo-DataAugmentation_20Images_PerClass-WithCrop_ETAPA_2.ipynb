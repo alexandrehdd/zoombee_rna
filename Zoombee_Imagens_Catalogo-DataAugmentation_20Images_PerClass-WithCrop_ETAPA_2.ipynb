{
 "cells": [
  {
   "cell_type": "markdown",
   "metadata": {
    "collapsed": false
   },
   "source": []
  },
  {
   "cell_type": "code",
   "execution_count": 1,
   "metadata": {
    "ExecuteTime": {
     "end_time": "2023-09-05T23:46:47.376651Z",
     "start_time": "2023-09-05T23:46:46.174608Z"
    },
    "id": "SCK-vOUJ3zYJ"
   },
   "outputs": [],
   "source": [
    "import torch\n",
    "import numpy as np\n",
    "from PIL import Image\n",
    "from torchvision import transforms\n",
    "import torchvision\n",
    "import torchvision.transforms as T\n",
    "import pandas as pd\n",
    "from torch.utils.data import Dataset\n",
    "from torch.utils.data import DataLoader\n",
    "from sklearn import svm\n",
    "from sklearn.preprocessing import StandardScaler\n",
    "from collections import Counter\n",
    "from sklearn.model_selection import train_test_split\n",
    "from sklearn.metrics import confusion_matrix\n",
    "from sklearn.metrics import ConfusionMatrixDisplay\n",
    "from matplotlib import pyplot as plt\n",
    "from skimage import io, transform"
   ]
  },
  {
   "cell_type": "code",
   "execution_count": 2,
   "metadata": {
    "ExecuteTime": {
     "end_time": "2023-09-05T23:46:49.355273Z",
     "start_time": "2023-09-05T23:46:49.312508Z"
    }
   },
   "outputs": [],
   "source": [
    "dt = pd.read_csv('new_metadata_images_with_crop.csv', sep=',')"
   ]
  },
  {
   "cell_type": "code",
   "execution_count": 103,
   "metadata": {
    "ExecuteTime": {
     "end_time": "2023-09-06T00:34:12.069814Z",
     "start_time": "2023-09-06T00:34:12.052542Z"
    }
   },
   "outputs": [
    {
     "data": {
      "text/plain": [
       "Counter({0: 31,\n",
       "         1: 144,\n",
       "         2: 98,\n",
       "         3: 31,\n",
       "         4: 62,\n",
       "         5: 31,\n",
       "         6: 31,\n",
       "         7: 62,\n",
       "         8: 31,\n",
       "         9: 16,\n",
       "         10: 31,\n",
       "         11: 62,\n",
       "         12: 31,\n",
       "         13: 47,\n",
       "         14: 124,\n",
       "         15: 31,\n",
       "         16: 31,\n",
       "         17: 31,\n",
       "         18: 211,\n",
       "         19: 429,\n",
       "         20: 111,\n",
       "         21: 31,\n",
       "         22: 124,\n",
       "         23: 124,\n",
       "         24: 217,\n",
       "         25: 31})"
      ]
     },
     "execution_count": 103,
     "metadata": {},
     "output_type": "execute_result"
    }
   ],
   "source": [
    "#Após balanceamento\n",
    "Counter(dt['label_numeric'])"
   ]
  },
  {
   "cell_type": "code",
   "execution_count": 4,
   "metadata": {
    "ExecuteTime": {
     "end_time": "2023-09-05T23:46:53.795862Z",
     "start_time": "2023-09-05T23:46:53.758618Z"
    },
    "id": "-dV0dSH7CqfY"
   },
   "outputs": [],
   "source": [
    "#Serengethi Model\n",
    "model_path = 'model.pth'"
   ]
  },
  {
   "cell_type": "code",
   "execution_count": 5,
   "metadata": {
    "ExecuteTime": {
     "end_time": "2023-09-05T23:46:55.587494Z",
     "start_time": "2023-09-05T23:46:55.547367Z"
    },
    "id": "smnsc7guudjt"
   },
   "outputs": [],
   "source": [
    "n = 0\n",
    "train_l_sum = 0.0\n",
    "train_acc_sum = 0.0\n",
    "\n",
    "args = {\n",
    "    'batch_size': 256,\n",
    "    'num_workers': 4,\n",
    "    'num_epochs': 50,\n",
    "    'learning_rate': 0.001,\n",
    "    'num_classes': 13,  # Number of KKCs.\n",
    "\n",
    "}\n",
    "\n",
    "device = torch.device('cuda:0' if torch.cuda.is_available() else 'cpu')\n",
    "\n",
    "\n",
    "def load_data():\n",
    "    train_loader = DataLoader(dataset=train_dataset,\n",
    "                              batch_size=args['batch_size'],\n",
    "                              shuffle=True,\n",
    "                              pin_memory=True,\n",
    "                              num_workers=4)\n",
    "\n",
    "    return train_loader\n",
    "\n",
    "\n",
    "class AnimalImageDataset(Dataset):\n",
    "    def __init__(self, csv_file, root_dir, transform=None):\n",
    "        self.annotations = pd.read_csv(csv_file)\n",
    "        self.root_dir = root_dir\n",
    "        self.transform = transform\n",
    "\n",
    "    def __len__(self):\n",
    "        return len(self.annotations)\n",
    "\n",
    "    def __getitem__(self, index):\n",
    "        img_name = self.annotations['path'][index]\n",
    "        image = io.imread(img_name)\n",
    "        y_label = torch.tensor(self.annotations['label_numeric'][index])\n",
    "\n",
    "        if self.transform:\n",
    "            image = self.transform(image)\n",
    "\n",
    "        return image, y_label\n",
    "\n",
    "transform = T.Compose([\n",
    "    T.ToPILImage(),\n",
    "    T.ToTensor()\n",
    "])\n",
    "\n",
    "train_dataset = AnimalImageDataset(csv_file='new_metadata_images_with_crop.csv', root_dir='', transform=transform)"
   ]
  },
  {
   "cell_type": "code",
   "execution_count": 187,
   "metadata": {
    "ExecuteTime": {
     "end_time": "2023-09-06T01:18:49.358967Z",
     "start_time": "2023-09-06T01:18:49.243581Z"
    }
   },
   "outputs": [],
   "source": [
    "model = torch.load('model.pth')\n",
    "model.to(device)\n",
    "model.eval()\n",
    "\n",
    "model = torch.nn.Sequential(*list(model.children())[:-1])"
   ]
  },
  {
   "cell_type": "code",
   "execution_count": 197,
   "metadata": {
    "ExecuteTime": {
     "end_time": "2023-09-06T01:29:36.405338Z",
     "start_time": "2023-09-06T01:29:36.090841Z"
    },
    "colab": {
     "base_uri": "https://localhost:8080/",
     "height": 363
    },
    "id": "wN7hxWWBFYFD",
    "outputId": "dee1f785-2634-42b5-c1a7-c026f49da357"
   },
   "outputs": [],
   "source": [
    "#Load model\n",
    "model = torchvision.models.resnet18(pretrained=True)\n",
    "model.to(device)\n",
    "model.eval()\n",
    "model = torch.nn.Sequential(*list(model.children())[:-1]) #Retirada da última camada para extrair as características da imagem"
   ]
  },
  {
   "cell_type": "code",
   "execution_count": 200,
   "metadata": {
    "ExecuteTime": {
     "end_time": "2023-09-06T01:30:47.494079Z",
     "start_time": "2023-09-06T01:30:47.375735Z"
    }
   },
   "outputs": [],
   "source": [
    "train = AnimalImageDataset(csv_file='new_metadata_images_with_crop.csv',\n",
    "                           root_dir='',\n",
    "                           transform=transform)\n",
    "\n",
    "train_loader = DataLoader(dataset=train,\n",
    "                          batch_size=args['batch_size'],\n",
    "                          shuffle=False)\n"
   ]
  },
  {
   "cell_type": "markdown",
   "metadata": {
    "collapsed": false
   },
   "source": [
    "Extração de Características do Conjunto"
   ]
  },
  {
   "cell_type": "markdown",
   "metadata": {
    "collapsed": false
   },
   "source": [
    "# Modelo "
   ]
  },
  {
   "cell_type": "code",
   "execution_count": 201,
   "metadata": {
    "ExecuteTime": {
     "end_time": "2023-09-06T01:31:23.980689Z",
     "start_time": "2023-09-06T01:30:49.633929Z"
    }
   },
   "outputs": [],
   "source": [
    "\n",
    "transform = transforms.Compose([\n",
    "    transforms.Resize((224, 224)),\n",
    "    transforms.Grayscale(num_output_channels=3),\n",
    "    transforms.ToTensor()\n",
    "])\n",
    "\n",
    "image_paths = dt['path']\n",
    "new_features = []\n",
    "image_tensor_array = []\n",
    "\n",
    "for image_path in image_paths:\n",
    "    image = Image.open(image_path)\n",
    "\n",
    "    image_np = np.array(image)\n",
    "    if len(image_np.shape) == 2:\n",
    "        image = Image.fromarray(image_np)\n",
    "        image = transform(image)\n",
    "    else:\n",
    "        image = transform(image)\n",
    "\n",
    "    image_tensor = image.unsqueeze(0).to(device)\n",
    "    image_tensor_array.append(image_tensor)\n",
    "\n",
    "    features = model(image_tensor)\n",
    "    features_cpu = features.squeeze().detach().cpu().numpy()\n",
    "\n",
    "    new_features.append(features_cpu)\n",
    "\n",
    "new_features = StandardScaler().fit_transform(new_features) #features extraidas das imagens do catálogo aumentadas"
   ]
  },
  {
   "cell_type": "code",
   "execution_count": 202,
   "metadata": {
    "ExecuteTime": {
     "end_time": "2023-09-06T01:31:24.037408Z",
     "start_time": "2023-09-06T01:31:23.979400Z"
    },
    "collapsed": false
   },
   "outputs": [
    {
     "data": {
      "text/plain": [
       "(2203, 512)"
      ]
     },
     "execution_count": 202,
     "metadata": {},
     "output_type": "execute_result"
    }
   ],
   "source": [
    "new_features.shape"
   ]
  },
  {
   "cell_type": "code",
   "execution_count": 203,
   "metadata": {
    "ExecuteTime": {
     "end_time": "2023-09-06T01:34:03.818080Z",
     "start_time": "2023-09-06T01:34:03.774728Z"
    }
   },
   "outputs": [],
   "source": [
    "# Crie as transformações para o pré-processamento\n",
    "transform = transforms.Compose([\n",
    "    T.ToPILImage(),\n",
    "    transforms.Resize((224, 298)),\n",
    "    transforms.ToTensor()\n",
    "])"
   ]
  },
  {
   "cell_type": "code",
   "execution_count": 11,
   "metadata": {
    "ExecuteTime": {
     "end_time": "2023-09-05T23:48:07.393227Z",
     "start_time": "2023-09-05T23:48:07.277165Z"
    }
   },
   "outputs": [
    {
     "data": {
      "text/plain": [
       "Sequential(\n",
       "  (0): Conv2d(3, 64, kernel_size=(7, 7), stride=(2, 2), padding=(3, 3), bias=False)\n",
       "  (1): BatchNorm2d(64, eps=1e-05, momentum=0.1, affine=True, track_running_stats=True)\n",
       "  (2): ReLU(inplace=True)\n",
       "  (3): MaxPool2d(kernel_size=3, stride=2, padding=1, dilation=1, ceil_mode=False)\n",
       "  (4): Sequential(\n",
       "    (0): BasicBlock(\n",
       "      (conv1): Conv2d(64, 64, kernel_size=(3, 3), stride=(1, 1), padding=(1, 1), bias=False)\n",
       "      (bn1): BatchNorm2d(64, eps=1e-05, momentum=0.1, affine=True, track_running_stats=True)\n",
       "      (relu): ReLU(inplace=True)\n",
       "      (conv2): Conv2d(64, 64, kernel_size=(3, 3), stride=(1, 1), padding=(1, 1), bias=False)\n",
       "      (bn2): BatchNorm2d(64, eps=1e-05, momentum=0.1, affine=True, track_running_stats=True)\n",
       "    )\n",
       "    (1): BasicBlock(\n",
       "      (conv1): Conv2d(64, 64, kernel_size=(3, 3), stride=(1, 1), padding=(1, 1), bias=False)\n",
       "      (bn1): BatchNorm2d(64, eps=1e-05, momentum=0.1, affine=True, track_running_stats=True)\n",
       "      (relu): ReLU(inplace=True)\n",
       "      (conv2): Conv2d(64, 64, kernel_size=(3, 3), stride=(1, 1), padding=(1, 1), bias=False)\n",
       "      (bn2): BatchNorm2d(64, eps=1e-05, momentum=0.1, affine=True, track_running_stats=True)\n",
       "    )\n",
       "  )\n",
       "  (5): Sequential(\n",
       "    (0): BasicBlock(\n",
       "      (conv1): Conv2d(64, 128, kernel_size=(3, 3), stride=(2, 2), padding=(1, 1), bias=False)\n",
       "      (bn1): BatchNorm2d(128, eps=1e-05, momentum=0.1, affine=True, track_running_stats=True)\n",
       "      (relu): ReLU(inplace=True)\n",
       "      (conv2): Conv2d(128, 128, kernel_size=(3, 3), stride=(1, 1), padding=(1, 1), bias=False)\n",
       "      (bn2): BatchNorm2d(128, eps=1e-05, momentum=0.1, affine=True, track_running_stats=True)\n",
       "      (downsample): Sequential(\n",
       "        (0): Conv2d(64, 128, kernel_size=(1, 1), stride=(2, 2), bias=False)\n",
       "        (1): BatchNorm2d(128, eps=1e-05, momentum=0.1, affine=True, track_running_stats=True)\n",
       "      )\n",
       "    )\n",
       "    (1): BasicBlock(\n",
       "      (conv1): Conv2d(128, 128, kernel_size=(3, 3), stride=(1, 1), padding=(1, 1), bias=False)\n",
       "      (bn1): BatchNorm2d(128, eps=1e-05, momentum=0.1, affine=True, track_running_stats=True)\n",
       "      (relu): ReLU(inplace=True)\n",
       "      (conv2): Conv2d(128, 128, kernel_size=(3, 3), stride=(1, 1), padding=(1, 1), bias=False)\n",
       "      (bn2): BatchNorm2d(128, eps=1e-05, momentum=0.1, affine=True, track_running_stats=True)\n",
       "    )\n",
       "  )\n",
       "  (6): Sequential(\n",
       "    (0): BasicBlock(\n",
       "      (conv1): Conv2d(128, 256, kernel_size=(3, 3), stride=(2, 2), padding=(1, 1), bias=False)\n",
       "      (bn1): BatchNorm2d(256, eps=1e-05, momentum=0.1, affine=True, track_running_stats=True)\n",
       "      (relu): ReLU(inplace=True)\n",
       "      (conv2): Conv2d(256, 256, kernel_size=(3, 3), stride=(1, 1), padding=(1, 1), bias=False)\n",
       "      (bn2): BatchNorm2d(256, eps=1e-05, momentum=0.1, affine=True, track_running_stats=True)\n",
       "      (downsample): Sequential(\n",
       "        (0): Conv2d(128, 256, kernel_size=(1, 1), stride=(2, 2), bias=False)\n",
       "        (1): BatchNorm2d(256, eps=1e-05, momentum=0.1, affine=True, track_running_stats=True)\n",
       "      )\n",
       "    )\n",
       "    (1): BasicBlock(\n",
       "      (conv1): Conv2d(256, 256, kernel_size=(3, 3), stride=(1, 1), padding=(1, 1), bias=False)\n",
       "      (bn1): BatchNorm2d(256, eps=1e-05, momentum=0.1, affine=True, track_running_stats=True)\n",
       "      (relu): ReLU(inplace=True)\n",
       "      (conv2): Conv2d(256, 256, kernel_size=(3, 3), stride=(1, 1), padding=(1, 1), bias=False)\n",
       "      (bn2): BatchNorm2d(256, eps=1e-05, momentum=0.1, affine=True, track_running_stats=True)\n",
       "    )\n",
       "  )\n",
       "  (7): Sequential(\n",
       "    (0): BasicBlock(\n",
       "      (conv1): Conv2d(256, 512, kernel_size=(3, 3), stride=(2, 2), padding=(1, 1), bias=False)\n",
       "      (bn1): BatchNorm2d(512, eps=1e-05, momentum=0.1, affine=True, track_running_stats=True)\n",
       "      (relu): ReLU(inplace=True)\n",
       "      (conv2): Conv2d(512, 512, kernel_size=(3, 3), stride=(1, 1), padding=(1, 1), bias=False)\n",
       "      (bn2): BatchNorm2d(512, eps=1e-05, momentum=0.1, affine=True, track_running_stats=True)\n",
       "      (downsample): Sequential(\n",
       "        (0): Conv2d(256, 512, kernel_size=(1, 1), stride=(2, 2), bias=False)\n",
       "        (1): BatchNorm2d(512, eps=1e-05, momentum=0.1, affine=True, track_running_stats=True)\n",
       "      )\n",
       "    )\n",
       "    (1): BasicBlock(\n",
       "      (conv1): Conv2d(512, 512, kernel_size=(3, 3), stride=(1, 1), padding=(1, 1), bias=False)\n",
       "      (bn1): BatchNorm2d(512, eps=1e-05, momentum=0.1, affine=True, track_running_stats=True)\n",
       "      (relu): ReLU(inplace=True)\n",
       "      (conv2): Conv2d(512, 512, kernel_size=(3, 3), stride=(1, 1), padding=(1, 1), bias=False)\n",
       "      (bn2): BatchNorm2d(512, eps=1e-05, momentum=0.1, affine=True, track_running_stats=True)\n",
       "    )\n",
       "  )\n",
       ")"
      ]
     },
     "execution_count": 11,
     "metadata": {},
     "output_type": "execute_result"
    }
   ],
   "source": [
    "#Extract features\n",
    "#model = torch.load('model.pth')\n",
    "model = torch.nn.Sequential(*list(model.children())[:-1])\n",
    "model.to(device)"
   ]
  },
  {
   "cell_type": "code",
   "execution_count": 12,
   "metadata": {
    "ExecuteTime": {
     "end_time": "2023-09-05T23:48:09.136720Z",
     "start_time": "2023-09-05T23:48:08.852599Z"
    }
   },
   "outputs": [],
   "source": [
    "class_mapping = {\n",
    "    'veado': 0,\n",
    "    'rato': 1,\n",
    "    'cuica': 2,\n",
    "    'gamba': 3,\n",
    "    'preguica': 4,\n",
    "    'porco': 5,\n",
    "    'cachorro': 6,\n",
    "    'onça': 7,\n",
    "    'gato': 8,\n",
    "    'irara': 9,\n",
    "    'quati': 10,\n",
    "    'tatu': 11,\n",
    "    'anta': 12,\n",
    "    'tamandua': 13,\n",
    "    'macaco': 14,\n",
    "    'cutia': 15,\n",
    "    'capivara': 16,\n",
    "    'gaviao': 17,\n",
    "    'ave': 18,\n",
    "    'sapo': 19,\n",
    "    'cobra': 20,\n",
    "    'lagarto': 21,\n",
    "    'jacare': 22,\n",
    "    'jabuti': 23,\n",
    "    'calango': 24,\n",
    "    'iguana': 25\n",
    "}"
   ]
  },
  {
   "cell_type": "code",
   "execution_count": 205,
   "metadata": {
    "ExecuteTime": {
     "end_time": "2023-09-06T01:35:46.930822Z",
     "start_time": "2023-09-06T01:34:44.952655Z"
    }
   },
   "outputs": [
    {
     "name": "stdout",
     "output_type": "stream",
     "text": [
      "(1762, 512) (441, 512)\n"
     ]
    },
    {
     "data": {
      "text/plain": [
       "0.9297052154195011"
      ]
     },
     "execution_count": 205,
     "metadata": {},
     "output_type": "execute_result"
    }
   ],
   "source": [
    "transform = transforms.Compose([\n",
    "    T.ToPILImage(),\n",
    "    transforms.Resize((224, 298)),\n",
    "    transforms.RandomCrop((50, 50)),\n",
    "    transforms.Grayscale(),\n",
    "    transforms.ToTensor()\n",
    "])\n",
    "\n",
    "dataset = AnimalImageDataset(csv_file='new_metadata_images_with_crop.csv',\n",
    "                             root_dir='',\n",
    "                             transform=transform)\n",
    "features = []\n",
    "labels = []\n",
    "for i in range(len(dataset)):\n",
    "    image, label_numeric = dataset[i]\n",
    "    features.append(image)\n",
    "    labels.append(label_numeric)\n",
    "\n",
    "X_train, X_test, y_train, y_test = train_test_split(new_features, labels, test_size=0.2, random_state=42)\n",
    "print(X_train.shape, X_test.shape)\n",
    "\n",
    "scaler = StandardScaler()\n",
    "\n",
    "X_train = np.array(X_train)\n",
    "X_test = np.array(X_test)\n",
    "\n",
    "X_train = scaler.fit_transform(X_train)\n",
    "X_test = scaler.transform(X_test)\n",
    "\n",
    "y_train = np.array(y_train)\n",
    "y_test = np.array(y_test)\n",
    "\n",
    "svm_classifier = svm.SVC()\n",
    "svm_classifier.fit(X_train, y_train)\n",
    "predictions = svm_classifier.predict(X_test)\n",
    "accuracy = svm_classifier.score(X_test, y_test)\n",
    "accuracy"
   ]
  },
  {
   "cell_type": "markdown",
   "metadata": {
    "collapsed": false
   },
   "source": [
    "Matriz de Confusão"
   ]
  },
  {
   "cell_type": "code",
   "execution_count": 156,
   "metadata": {
    "ExecuteTime": {
     "end_time": "2023-09-06T00:46:19.929766Z",
     "start_time": "2023-09-06T00:46:18.584775Z"
    },
    "collapsed": false
   },
   "outputs": [
    {
     "data": {
      "image/png": "[encoded data removed]",
      "text/plain": [
       "<Figure size 720x720 with 2 Axes>"
      ]
     },
     "metadata": {
      "needs_background": "light"
     },
     "output_type": "display_data"
    }
   ],
   "source": [
    "fig, ax = plt.subplots(figsize=(10, 10))\n",
    "cm_display = ConfusionMatrixDisplay(confusion_matrix)\n",
    "cm_display.plot(ax=ax)\n",
    "plt.show()"
   ]
  },
  {
   "cell_type": "markdown",
   "metadata": {
    "collapsed": false
   },
   "source": [
    "Validação dos Dados"
   ]
  },
  {
   "cell_type": "code",
   "execution_count": 195,
   "metadata": {
    "ExecuteTime": {
     "start_time": "2023-09-06T01:28:44.707714Z"
    },
    "collapsed": false
   },
   "outputs": [],
   "source": [
    "transform = transforms.Compose([\n",
    "    transforms.Resize((224, 224)),\n",
    "    transforms.RandomCrop((50, 50)),\n",
    "    transforms.Grayscale(num_output_channels=3),\n",
    "    transforms.ToTensor()\n",
    "])\n",
    "\n",
    "image_path = 'IMAGENS_ANOTADAS_2/imagem121.png'\n",
    "\n",
    "image = Image.open(image_path)\n",
    "image_np = np.array(image)\n",
    "\n",
    "if len(image_np.shape) == 2:\n",
    "    image = Image.fromarray(image_np)\n",
    "    image = transform(image)\n",
    "else:\n",
    "    image = transform(image)\n",
    "\n",
    "image_tensor = image.unsqueeze(0).to(device)\n",
    "\n",
    "feature = model(image_tensor)\n",
    "feature_cpu = feature.squeeze().detach().cpu().numpy()\n",
    "#feature_cpu = np.transpose(feature_cpu, (1, 2, 0))\n",
    "\n",
    "\n",
    "\n",
    "n_feat = StandardScaler().fit_transform(feature_cpu.reshape(-1,1))  # Normalização das características\n",
    "\n",
    "predicted_class = svm_classifier.predict(n_feat.transpose())\n",
    "\n",
    "\n",
    "predicted_class #classe "
   ]
  },
  {
   "cell_type": "markdown",
   "metadata": {},
   "source": []
  }
 ],
 "metadata": {
  "accelerator": "GPU",
  "colab": {
   "gpuType": "T4",
   "provenance": []
  },
  "kernelspec": {
   "display_name": "Python 3",
   "language": "python",
   "name": "python3"
  },
  "language_info": {
   "codemirror_mode": {
    "name": "ipython",
    "version": 3
   },
   "file_extension": ".py",
   "mimetype": "text/x-python",
   "name": "python",
   "nbconvert_exporter": "python",
   "pygments_lexer": "ipython3",
   "version": "3.6.8"
  }
 },
 "nbformat": 4,
 "nbformat_minor": 1
}
